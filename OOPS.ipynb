{
 "cells": [
  {
   "cell_type": "code",
   "execution_count": 5,
   "id": "0fb5e212",
   "metadata": {},
   "outputs": [
    {
     "name": "stdout",
     "output_type": "stream",
     "text": [
      "my name is: rohit\n",
      "my age is: 27\n",
      "my marks are: 100\n"
     ]
    }
   ],
   "source": [
    "# Example of class \n",
    "#class is noting but a blueprint or action plan\n",
    "#object is a variable in which we can store value in python everything is object.\n",
    "\n",
    "class student:\n",
    "    def __init__(self):\n",
    "        self.name='rohit'\n",
    "        self.age=27\n",
    "        self.marks=100\n",
    "        \n",
    "    def talk(self):\n",
    "        print('my name is:',self.name)\n",
    "        print('my age is:',self.age)\n",
    "        print('my marks are:',self.marks)\n",
    "\n",
    "s1= student()\n",
    "s1.talk()"
   ]
  },
  {
   "cell_type": "code",
   "execution_count": 8,
   "id": "b0456d15",
   "metadata": {},
   "outputs": [
    {
     "name": "stdout",
     "output_type": "stream",
     "text": [
      "My name is: rohit\n",
      "My account no is: 123\n",
      "My bank balance is: 100000\n"
     ]
    }
   ],
   "source": [
    "#example on class with reference variable\n",
    "#self variable is default variable which is always pointing towards current object\n",
    "\n",
    "class student:\n",
    "    def __init__(self,name_holder, account_no, bank_balance):   #here we used reference variables inside function\n",
    "        self.name=name_holder\n",
    "        self.account=account_no\n",
    "        self.bank=bank_balance\n",
    "        \n",
    "    def talk(self):\n",
    "        print('My name is:',self.name)\n",
    "        print('My account no is:',self.account)\n",
    "        print('My bank balance is:',self.bank)\n",
    "        \n",
    "s2=student('rohit',123,100000)\n",
    "s2.talk()"
   ]
  },
  {
   "cell_type": "code",
   "execution_count": 9,
   "id": "2018fad7",
   "metadata": {},
   "outputs": [
    {
     "name": "stdout",
     "output_type": "stream",
     "text": [
      "Student name is: rohit\n",
      "rollno is: 36\n",
      "marks are: 100\n"
     ]
    }
   ],
   "source": [
    "class student:\n",
    "    def __init__(self,student_name,roll_no,student_marks):\n",
    "        self.name=student_name\n",
    "        self.rollno=roll_no\n",
    "        self.marks=student_marks\n",
    "        \n",
    "    def talk(self):\n",
    "        print('Student name is:',self.name)\n",
    "        print('rollno is:',self.rollno)\n",
    "        print('marks are:',self.marks)\n",
    "        \n",
    "obj= student('rohit',36,100)\n",
    "obj.talk()"
   ]
  },
  {
   "cell_type": "code",
   "execution_count": 46,
   "id": "0e51ed08",
   "metadata": {},
   "outputs": [
    {
     "name": "stdout",
     "output_type": "stream",
     "text": [
      "student name: rohit\n",
      "rollno: 30\n",
      "marks: 100\n",
      "student name: rushi\n",
      "rollno: 31\n",
      "marks: 99\n"
     ]
    }
   ],
   "source": [
    "#constructor is nothing but special method in python\n",
    "#constructor should be usedby using __init__(self)\n",
    "\n",
    "class student:\n",
    "    def __init__(self,x,y,z):\n",
    "        self.name=x\n",
    "        self.rollno=y\n",
    "        self.marks=z\n",
    "        \n",
    "    def display(self):\n",
    "        print('student name:',self.name)\n",
    "        print('rollno:',self.rollno)\n",
    "        print('marks:',self.marks)\n",
    "        #format(self.name,self.rollno)\n",
    "        \n",
    "s1=student('rohit',30,100)\n",
    "s1.display()\n",
    "s2=student('rushi',31,99)\n",
    "s2.display()"
   ]
  },
  {
   "cell_type": "code",
   "execution_count": 12,
   "id": "fe120cb7",
   "metadata": {},
   "outputs": [
    {
     "name": "stdout",
     "output_type": "stream",
     "text": [
      "7248920677 calling with brand oppo model is 123 of ruppes 12000\n",
      "call got disconnected from 9307160288\n"
     ]
    }
   ],
   "source": [
    "#write a code with mobile specification to make a call or disconnect a call and message.\n",
    "\n",
    "class mobile:\n",
    "    def __init__(self,brand,model,price):\n",
    "        self.brand=brand\n",
    "        self.model=model\n",
    "        self.price=price\n",
    "        \n",
    "    def make_call(self,number):\n",
    "        print(f'{number} calling with brand {self.brand} model is {self.model} of ruppes {self.price}')\n",
    "    \n",
    "    def disconnect_call(self,number):\n",
    "        print(f'call got disconnected from {number}')\n",
    "              \n",
    "\n",
    "a=mobile('oppo',123,12000)\n",
    "a.make_call(7248920677)\n",
    "a.disconnect_call(9307160288)"
   ]
  },
  {
   "cell_type": "markdown",
   "id": "b1af3970",
   "metadata": {},
   "source": [
    "Where we can declare instance varibles:-\n",
    "1. Inside constructor by using self variable\n",
    "2. Inside instance method by using self variable\n",
    "3. Out side of the class by using object reference variables"
   ]
  },
  {
   "cell_type": "code",
   "execution_count": 6,
   "id": "d429b6bc",
   "metadata": {},
   "outputs": [
    {
     "name": "stdout",
     "output_type": "stream",
     "text": [
      "{'eno': 100, 'ename': 'rohit', 'sal': 1000}\n"
     ]
    }
   ],
   "source": [
    "#Inside constructer by using self variable\n",
    "\n",
    "class Employee:\n",
    "    def __init__(self):\n",
    "        self.eno=100\n",
    "        self.ename='rohit'\n",
    "        self.sal=1000\n",
    "            \n",
    "e=Employee()\n",
    "print(e.__dict__)"
   ]
  },
  {
   "cell_type": "code",
   "execution_count": 16,
   "id": "7a1c32f4",
   "metadata": {},
   "outputs": [
    {
     "name": "stdout",
     "output_type": "stream",
     "text": [
      "{'a': 10, 'b': 20, 'c': 30}\n"
     ]
    }
   ],
   "source": [
    "#Inside instance method by using self variable\n",
    "\n",
    "class employee:\n",
    "    def __init__(self):\n",
    "        self.a=10\n",
    "        self.b=20\n",
    "        \n",
    "    def m1(self):\n",
    "        self.c=30\n",
    "        \n",
    "e=employee()\n",
    "e.m1()\n",
    "print(e.__dict__)"
   ]
  },
  {
   "cell_type": "code",
   "execution_count": 17,
   "id": "5fa1afb0",
   "metadata": {},
   "outputs": [
    {
     "name": "stdout",
     "output_type": "stream",
     "text": [
      "{'a': 10, 'b': 20, 'c': 30, 'd': 40}\n"
     ]
    }
   ],
   "source": [
    "#Outside of the class by using object reference variables\n",
    "\n",
    "class test:\n",
    "    def __init__(self):\n",
    "        self.a=10\n",
    "        self.b=20\n",
    "        \n",
    "    def m1(self):\n",
    "        self.c=30\n",
    "e=test()\n",
    "e.m1()\n",
    "e.d=40\n",
    "print(e.__dict__)"
   ]
  },
  {
   "cell_type": "code",
   "execution_count": 38,
   "id": "336ccaed",
   "metadata": {},
   "outputs": [
    {
     "name": "stdout",
     "output_type": "stream",
     "text": [
      "{'a': 10, 'b': 20, 'c': 30}\n",
      "{'a': 10, 'b': 20}\n",
      "{'a': 10}\n"
     ]
    }
   ],
   "source": [
    "#how to delete instance varible from the object(within and outside the class)\n",
    "class rohit:\n",
    "    def __init__(self):\n",
    "        self.a=10\n",
    "        self.b=20\n",
    "        self.c=30\n",
    "        \n",
    "    def m1(self):\n",
    "        del self.c\n",
    "        \n",
    "e=rohit()\n",
    "print(e.__dict__)\n",
    "e.m1()\n",
    "print(e.__dict__)\n",
    "del e.b\n",
    "print(e.__dict__)"
   ]
  },
  {
   "cell_type": "code",
   "execution_count": 39,
   "id": "ec446ec7",
   "metadata": {},
   "outputs": [
    {
     "name": "stdout",
     "output_type": "stream",
     "text": [
      "{'a': 1, 'b': 2, 'c': 3}\n",
      "{'a': 1, 'b': 2}\n",
      "{'a': 1}\n"
     ]
    }
   ],
   "source": [
    "class abc:\n",
    "    def __init__(self):\n",
    "        self.a=1\n",
    "        self.b=2\n",
    "        self.c=3\n",
    "    def m1(self):\n",
    "        del self.c\n",
    "        \n",
    "z=abc()\n",
    "print(z.__dict__)\n",
    "z.m1()\n",
    "print(z.__dict__)\n",
    "del z.b\n",
    "print(z.__dict__)"
   ]
  },
  {
   "cell_type": "code",
   "execution_count": 40,
   "id": "9a7cd9e3",
   "metadata": {},
   "outputs": [
    {
     "name": "stdout",
     "output_type": "stream",
     "text": [
      "{'a': 11, 'b': 12, 'c': 13, 'd': 14}\n",
      "{'b': 12, 'c': 13, 'd': 14}\n",
      "{'a': 11, 'b': 12, 'c': 13, 'd': 14}\n"
     ]
    }
   ],
   "source": [
    "#note: the instance varible deleted from one object will be not deleted from other object.\n",
    "\n",
    "class python:\n",
    "    def __init__(self):\n",
    "        self.a=11\n",
    "        self.b=12\n",
    "        self.c=13\n",
    "    def m1(self):\n",
    "        self.d=14\n",
    "r1=python()\n",
    "r1.m1()\n",
    "print(r1.__dict__)\n",
    "del r1.a                  #deleting instance variable from object r1\n",
    "print(r1.__dict__)        #deleted instance variable\n",
    "r2=python()\n",
    "r2.m1()\n",
    "print(r2.__dict__)        #instance variable deleted from object r1 will not be deleted from r2"
   ]
  },
  {
   "cell_type": "code",
   "execution_count": 57,
   "id": "6215ac08",
   "metadata": {},
   "outputs": [
    {
     "name": "stdout",
     "output_type": "stream",
     "text": [
      "t1: 10 20\n",
      "t2: 10 20\n",
      "t1: 10 21\n",
      "t2: 10 20\n"
     ]
    }
   ],
   "source": [
    "class test:\n",
    "    a=10\n",
    "    def __init__(self):\n",
    "        self.b=20\n",
    "        #self.c=30\n",
    "t1= test()\n",
    "t2= test()\n",
    "print('t1:',t1.a,t1.b)\n",
    "print('t2:',t2.a,t2.b)\n",
    "test.x=11\n",
    "t1.b=21\n",
    "print('t1:',t1.a,t1.b)\n",
    "print('t2:',t2.a,t2.b)"
   ]
  },
  {
   "cell_type": "markdown",
   "id": "14911a6a",
   "metadata": {},
   "source": [
    "### Various places to declare Static variables.\n",
    "In general we can declare within the class directly but from outside of my method.\n",
    "\n",
    "Inside constructor by using class name\n",
    "\n",
    "Inside instance method by using class name.\n",
    "\n",
    "Inside class method by using either class name or class variable.\n",
    "\n",
    "Inside static method by using class name.\n",
    "\n",
    "From outsideof class by  using class name"
   ]
  },
  {
   "cell_type": "code",
   "execution_count": 27,
   "id": "a9c5577a",
   "metadata": {},
   "outputs": [
    {
     "name": "stdout",
     "output_type": "stream",
     "text": [
      "{'__module__': '__main__', 'a': 10, '__init__': <function test.__init__ at 0x00000211ABB53160>, 'm1': <function test.m1 at 0x00000211ABB53AF0>, 'm2': <classmethod object at 0x00000211ABB59160>, 'm3': <staticmethod object at 0x00000211ABB599D0>, '__dict__': <attribute '__dict__' of 'test' objects>, '__weakref__': <attribute '__weakref__' of 'test' objects>, '__doc__': None, 'b': 20, 'c': 30, 'd': 40, 'e': 50, 'f': 60, 'g': 70}\n"
     ]
    }
   ],
   "source": [
    "class test():\n",
    "    a=10                #In general we can declare within the class directly but from outside of my method\n",
    "    def __init__(self):\n",
    "        test.b=20       #Inside constructor by using class name\n",
    "    def m1(self):\n",
    "        test.c=30       #Inside instance method by using class name.\n",
    "    @classmethod\n",
    "    def m2(cls):\n",
    "        cls.d=40        #Inside class method by using either class name or class variable.\n",
    "        test.e=50\n",
    "    @staticmethod\n",
    "    def m3():\n",
    "        test.f=60       #Inside static method by using class name.\n",
    "\n",
    "t=test()\n",
    "t.m1()\n",
    "test.m2()\n",
    "test.m3()\n",
    "test.g=70               #from outsideof class by  using class name\n",
    "print(test.__dict__)"
   ]
  },
  {
   "cell_type": "markdown",
   "id": "547c1dad",
   "metadata": {},
   "source": [
    "## How to Access static variables\n"
   ]
  },
  {
   "cell_type": "code",
   "execution_count": 39,
   "id": "ee559eb7",
   "metadata": {},
   "outputs": [
    {
     "name": "stdout",
     "output_type": "stream",
     "text": [
      "10\n",
      "10\n",
      "10\n",
      "10\n",
      "10\n",
      "10\n"
     ]
    }
   ],
   "source": [
    "class test:\n",
    "    a=10\n",
    "    def __init__(self):   #within constructor by using self and class name\n",
    "        print(self.a)\n",
    "        print(test.a)\n",
    "    def m1(self):         #witin instance method by using self or class name\n",
    "        print(self.a)\n",
    "    @classmethod          #witin classmethod by using cls variable or class name\n",
    "    def m2(cls):\n",
    "        print(cls.a)\n",
    "    @staticmethod        #witin staticmethod by using class name\n",
    "    def m3():\n",
    "        print(test.a)\n",
    "        \n",
    "t1=test()\n",
    "t1.m1()\n",
    "t1.m2()\n",
    "t1.m3()\n",
    "print(test.a)"
   ]
  },
  {
   "cell_type": "markdown",
   "id": "b7d642ba",
   "metadata": {},
   "source": [
    "### Where we can modify the values of static variables "
   ]
  },
  {
   "cell_type": "code",
   "execution_count": 65,
   "id": "9ba95ed3",
   "metadata": {},
   "outputs": [
    {
     "name": "stdout",
     "output_type": "stream",
     "text": [
      "11\n",
      "12\n",
      "13\n",
      "14\n",
      "15\n"
     ]
    }
   ],
   "source": [
    "class test1:\n",
    "    a=11\n",
    "    def __init__(self):\n",
    "        test1.a=12\n",
    "       \n",
    "    def m1(self):\n",
    "        test1.a=13\n",
    "    @classmethod\n",
    "    def m2(cls):\n",
    "        cls.a=14\n",
    "    @staticmethod\n",
    "    def m3():\n",
    "        test1.a=15\n",
    "        \n",
    "print(test1.a)        \n",
    "t1=test1()\n",
    "print(test1.a)\n",
    "t1.m1()\n",
    "print(test1.a)\n",
    "t1.m2()\n",
    "print(test1.a)\n",
    "t1.m3()\n",
    "print(test1.a)"
   ]
  },
  {
   "cell_type": "code",
   "execution_count": 66,
   "id": "6c1a70c2",
   "metadata": {},
   "outputs": [
    {
     "name": "stdout",
     "output_type": "stream",
     "text": [
      "11\n",
      "11\n",
      "14\n",
      "15\n"
     ]
    }
   ],
   "source": [
    "#What is wrong in this code that witin the constructor i wanted to modify the static variable(a=11 to a=12) but i was\n",
    "#accessing the instance variable by using self keyword i.e self.a=12 instead of using class name(test1) as i wanted to\n",
    "#modify static variable a=11 to a=12.\n",
    "\n",
    "#kindly find the above correct code \n",
    "\n",
    "\n",
    "class test1:\n",
    "    a = 11  # class variable\n",
    "\n",
    "    def __init__(self):\n",
    "        self.a = 12  # instance variable\n",
    "        # If you want to print the instance variable, use self.a here\n",
    "        # print(self.a)\n",
    "\n",
    "    def m1(self):\n",
    "        self.a = 13  # modifies the instance variable\n",
    "\n",
    "    @classmethod\n",
    "    def m2(cls):\n",
    "        cls.a = 14  # modifies the class variable\n",
    "\n",
    "    @staticmethod\n",
    "    def m3():\n",
    "        test1.a = 15  # modifies the class variable directly\n",
    "\n",
    "# Create an instance of the test1 class\n",
    "t1 = test1()\n",
    "\n",
    "# Access and print the class variable 'a' (initial value)\n",
    "print(test1.a)  # Output: 11\n",
    "\n",
    "# Call the instance method m1 (modifies the instance variable)\n",
    "t1.m1()\n",
    "\n",
    "# Access and print the class variable 'a' (through the class, not affected by m1)\n",
    "print(test1.a)  # Output: 11\n",
    "\n",
    "# Call the class method m2 (modifies the class variable)\n",
    "t1.m2()\n",
    "\n",
    "# Access and print the class variable 'a' (through the class, affected by m2)\n",
    "print(test1.a)  # Output: 14\n",
    "\n",
    "# Call the static method m3 (modifies the class variable directly)\n",
    "t1.m3()\n",
    "\n",
    "# Access and print the class variable 'a' (through the class, affected by m3)\n",
    "print(test1.a)  # Output: 15"
   ]
  },
  {
   "cell_type": "raw",
   "id": "6ddca406",
   "metadata": {},
   "source": [
    "if we chave the value of static variable by using self or object reference variable then the value of static variable\n",
    "won't be changed, just an new instance variable with that name will be added to that particular object."
   ]
  },
  {
   "cell_type": "code",
   "execution_count": 1,
   "id": "ea0ec740",
   "metadata": {},
   "outputs": [
    {
     "name": "stdout",
     "output_type": "stream",
     "text": [
      "10\n",
      "888\n"
     ]
    }
   ],
   "source": [
    "#Eg:\n",
    "\n",
    "class test:\n",
    "    a=10\n",
    "    def m1(self):\n",
    "        self.a=888\n",
    "        \n",
    "t1=test()\n",
    "t1.m1()\n",
    "print(test.a)\n",
    "print(t1.a)"
   ]
  },
  {
   "cell_type": "code",
   "execution_count": 2,
   "id": "eccbd398",
   "metadata": {},
   "outputs": [
    {
     "name": "stdout",
     "output_type": "stream",
     "text": [
      "888 999\n",
      "888 20\n"
     ]
    }
   ],
   "source": [
    "class test1:\n",
    "    a=10\n",
    "    def __init__(self):\n",
    "        self.b=20\n",
    "t1=test1()\n",
    "t2=test1()\n",
    "test1.a=888\n",
    "t1.b=999\n",
    "print(t1.a,t1.b)\n",
    "print(t2.a,t2.b)"
   ]
  },
  {
   "cell_type": "code",
   "execution_count": 3,
   "id": "c59b9e98",
   "metadata": {},
   "outputs": [
    {
     "name": "stdout",
     "output_type": "stream",
     "text": [
      "888 999\n",
      "10 20\n"
     ]
    }
   ],
   "source": [
    "class test2:\n",
    "    a=10\n",
    "    def __init__(self):\n",
    "        self.b=20\n",
    "    def m1(self):\n",
    "        self.a=888\n",
    "        self.b=999\n",
    "        \n",
    "t1=test2()\n",
    "t2=test2()\n",
    "t1.m1()\n",
    "print(t1.a,t1.b)\n",
    "print(t2.a,t2.b)"
   ]
  },
  {
   "cell_type": "code",
   "execution_count": 11,
   "id": "50bf099c",
   "metadata": {},
   "outputs": [
    {
     "name": "stdout",
     "output_type": "stream",
     "text": [
      "888 20\n",
      "888 20\n",
      "888 999\n"
     ]
    }
   ],
   "source": [
    "class test:\n",
    "    a=10\n",
    "    def __init__(self):\n",
    "        self.b=20\n",
    "    @classmethod\n",
    "    def m1(cls):\n",
    "        cls.a=888\n",
    "        cls.b=999\n",
    "        \n",
    "t1=test()\n",
    "t2=test()\n",
    "t1.m1()\n",
    "print(t1.a,t1.b)\n",
    "print(t2.a,t2.b)\n",
    "print(test.a,test.b)"
   ]
  },
  {
   "cell_type": "code",
   "execution_count": 14,
   "id": "747aa5f6",
   "metadata": {},
   "outputs": [
    {
     "name": "stdout",
     "output_type": "stream",
     "text": [
      "{'__module__': '__main__', 'm1': <classmethod object at 0x0000018ED461BDC0>, '__dict__': <attribute '__dict__' of 'test' objects>, '__weakref__': <attribute '__weakref__' of 'test' objects>, '__doc__': None}\n"
     ]
    }
   ],
   "source": [
    "#how to delete static variable of class\n",
    "#anywher in class by using -- del classname.variablename\n",
    "# inside class we can also use cls -- del cls.variablename\n",
    "\n",
    "class test:\n",
    "    a=10\n",
    "    @classmethod\n",
    "    def m1(cls):\n",
    "        del cls.a\n",
    "test.m1()\n",
    "print(test.__dict__)"
   ]
  },
  {
   "cell_type": "code",
   "execution_count": 2,
   "id": "1df127e0",
   "metadata": {},
   "outputs": [
    {
     "name": "stdout",
     "output_type": "stream",
     "text": [
      "welcome to RMS_BANK\n",
      "enter your name:Rohit\n",
      "d-deposite\n",
      "w-withdraw\n",
      "e-exit\n",
      "choose your option:d\n",
      "enter amount:111\n",
      "balance after deposit: 111.0\n",
      "d-deposite\n",
      "w-withdraw\n",
      "e-exit\n",
      "choose your option:w\n",
      "enter amount:11\n",
      "Balance after withdraw: 100.0\n",
      "d-deposite\n",
      "w-withdraw\n",
      "e-exit\n",
      "choose your option:e\n",
      "Thanks for banking\n"
     ]
    }
   ],
   "source": [
    "# BANK APPLICATION\n",
    "\n",
    "import sys\n",
    "class customer:\n",
    "    \"\"\"customer class with bank operations....\"\"\"\n",
    "    bankname='RMS_BANK'\n",
    "    def __init__(self,name,balance=0.0):\n",
    "        self.name=name\n",
    "        self.balance=balance\n",
    "    def deposite(self,amt):\n",
    "        self.balance=self.balance+amt\n",
    "        print(\"balance after deposit:\",self.balance)\n",
    "    def withdraw(self,amt):\n",
    "        if amt>self.balance:\n",
    "            print(\"insufficient funds...cannot perform this operation\")\n",
    "            sys.exit()\n",
    "        else:\n",
    "            self.balance=self.balance-amt\n",
    "            print('Balance after withdraw:',self.balance)\n",
    "            \n",
    "print(\"welcome to\",customer.bankname)        \n",
    "name=input(\"enter your name:\")\n",
    "c=customer(name)\n",
    "while True:\n",
    "    print('d-deposite\\nw-withdraw\\ne-exit')\n",
    "    option= input('choose your option:')\n",
    "    if option =='d' or option=='D':\n",
    "        amt=float(input('enter amount:'))\n",
    "        c.deposite(amt)\n",
    "    elif option=='w' or option=='W':\n",
    "        amt=float(input('enter amount:'))\n",
    "        c.withdraw(amt)\n",
    "    elif option == 'e' or option =='E':\n",
    "        print('Thanks for banking')\n",
    "        break\n",
    "    else:\n",
    "        print(\"invalid option.. plz choose valid option\")\n",
    "    "
   ]
  },
  {
   "cell_type": "code",
   "execution_count": 3,
   "id": "6f3e934a",
   "metadata": {},
   "outputs": [
    {
     "name": "stdout",
     "output_type": "stream",
     "text": [
      "Enter number of students:2\n",
      "enter name:rohit\n",
      "enter marks:99\n",
      "Hi rohit your marks are: 99\n",
      "you got first grade\n",
      "\n",
      "enter name:rushi\n",
      "enter marks:100\n",
      "Hi rushi your marks are: 100\n",
      "you got first grade\n",
      "\n"
     ]
    }
   ],
   "source": [
    "##Instance Method\n",
    "\n",
    "class student:\n",
    "    def __init__(self,name,marks):\n",
    "        self.name=name\n",
    "        self.marks=marks\n",
    "    def display(self):\n",
    "        print('Hi', self.name, 'your marks are:',self.marks)\n",
    "    def grade(self):\n",
    "        if int(self.marks)>=60:\n",
    "            print('you got first grade')\n",
    "        elif int(self.marks)>=50:\n",
    "            print('second class')\n",
    "        elif int(self.marks)>=35:\n",
    "            print('third class')\n",
    "        else:\n",
    "            print('failed')\n",
    "            \n",
    "n=int(input('Enter number of students:'))\n",
    "\n",
    "for i in range(n):\n",
    "    name=input('enter name:')\n",
    "    marks=input('enter marks:')\n",
    "    s=student(name,marks)\n",
    "    s.display()\n",
    "    s.grade()\n",
    "    print()"
   ]
  },
  {
   "cell_type": "code",
   "execution_count": null,
   "id": "80555e10",
   "metadata": {},
   "outputs": [],
   "source": []
  }
 ],
 "metadata": {
  "kernelspec": {
   "display_name": "Python 3 (ipykernel)",
   "language": "python",
   "name": "python3"
  },
  "language_info": {
   "codemirror_mode": {
    "name": "ipython",
    "version": 3
   },
   "file_extension": ".py",
   "mimetype": "text/x-python",
   "name": "python",
   "nbconvert_exporter": "python",
   "pygments_lexer": "ipython3",
   "version": "3.11.5"
  }
 },
 "nbformat": 4,
 "nbformat_minor": 5
}
